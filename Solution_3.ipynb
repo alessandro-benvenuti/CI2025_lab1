{
 "cells": [
  {
   "cell_type": "markdown",
   "metadata": {},
   "source": [
    "# Solution 3\n",
    "This is the best performing solution. In this solution I used the following data structures and functions:\n",
    "- <strong>solution</strong> is a numpy matrix where each row represents a knapsack. There actually is one more row than the number of kanpsacks and it represents the left-out items. So the row 0 contains the items which have not been taken. At first each item is left out, I also tried to start with a randomized solution but it could just not converge.\n",
    "- <strong>tweak</strong> is the function where I swap a single item between knapsacks.\n",
    "- <strong>fitness</strong> is a function that computes the fitness of a solution. Invalid solutions have negative fitness."
   ]
  },
  {
   "cell_type": "code",
   "execution_count": 20,
   "metadata": {
    "id": "_rKNKPiHOFO6"
   },
   "outputs": [],
   "source": [
    "import numpy as np\n",
    "from random import randint, sample, random\n",
    "from copy import deepcopy\n",
    "from tqdm import tqdm\n",
    "import math\n",
    "import matplotlib.pyplot as plt"
   ]
  },
  {
   "cell_type": "code",
   "execution_count": 11,
   "metadata": {
    "id": "-GWB6WDFOcJ3"
   },
   "outputs": [],
   "source": [
    "NUM_KNAPSACKS = 2\n",
    "NUM_ITEMS = 3\n",
    "NUM_DIMENSIONS = 2"
   ]
  },
  {
   "cell_type": "code",
   "execution_count": 12,
   "metadata": {
    "colab": {
     "base_uri": "https://localhost:8080/"
    },
    "id": "O0c1_IuTO4VU",
    "outputId": "7fbf88ad-1ba7-489b-82c1-c53afd78291f"
   },
   "outputs": [],
   "source": [
    "VALUES = np.random.randint(0, 100, size=NUM_ITEMS)\n",
    "WEIGHTS = np.random.randint(0, 100, size=(NUM_ITEMS, NUM_DIMENSIONS))\n",
    "CONSTRAINTS = np.random.randint(0, 100 * NUM_ITEMS // NUM_KNAPSACKS, size=(NUM_KNAPSACKS, NUM_DIMENSIONS))"
   ]
  },
  {
   "cell_type": "code",
   "execution_count": 13,
   "metadata": {
    "id": "SWVTnNtCYRsa"
   },
   "outputs": [],
   "source": [
    "def tweak(solution: np.array) -> np.array:\n",
    "  s1 = deepcopy(solution)\n",
    "  \n",
    "  # number of items to swap decreases with time and depends on the current iteration\n",
    "  num_swaps = 1\n",
    "\n",
    "  # we start by picking the items to swap\n",
    "  random_items = sample(range(0, NUM_ITEMS), num_swaps)\n",
    "\n",
    "  for item in random_items:\n",
    "    # consider 2 different random bags (if b=0 then we are choosing a left out item)\n",
    "    b1 = np.where(solution[:, item])[0][0]\n",
    "    while True:\n",
    "      b2 = randint(0, NUM_KNAPSACKS)\n",
    "      \n",
    "      if b2 != b1:\n",
    "        break\n",
    "    # swap the item in the two bags\n",
    "    s1[b1][item], s1[b2][item] = solution[b2][item], solution[b1][item]\n",
    "\n",
    "  return s1\n"
   ]
  },
  {
   "cell_type": "code",
   "execution_count": 14,
   "metadata": {
    "id": "4Iz29guK1w0B"
   },
   "outputs": [],
   "source": [
    "def fitness(solution: np.array) -> int:\n",
    "  # at first we need to compute if the solution is feasible and if it is not we return a negative fitness\n",
    "  if np.any(solution.sum(axis=0) > 1):\n",
    "    return -2   # if an object apperas in multiple knapsacks than the algorithm itself is flawed\n",
    "    \n",
    "  for k in range(1, NUM_KNAPSACKS+1):        # for each knapsack\n",
    "    \n",
    "    items_in_knapsack = solution[k]\n",
    "\n",
    "    if np.any(items_in_knapsack):           # if there are some items in the knapsack we can compute the total weight\n",
    "        \n",
    "        total_weight = WEIGHTS[items_in_knapsack].sum(axis=0)   # compute the total weight for each dimension\n",
    "        \n",
    "        if np.any(total_weight > CONSTRAINTS[k-1]):   \n",
    "            return -1   # the solution violates the weight constraint\n",
    "\n",
    "\n",
    "  # If the constraints are not violated then we can compute the fitness\n",
    "  f = 0\n",
    "  for i, item in enumerate(solution[0]):\n",
    "    # all the items wich are not left out contribute to the fitness\n",
    "    if not item:\n",
    "      f += VALUES[i]    # add the value of the take item\n",
    "\n",
    "  return f\n"
   ]
  },
  {
   "cell_type": "code",
   "execution_count": 25,
   "metadata": {
    "colab": {
     "background_save": true,
     "base_uri": "https://localhost:8080/"
    },
    "id": "Zi1O49l6Qlg7",
    "outputId": "ccbc9761-de27-456b-a421-0dc090b70c65"
   },
   "outputs": [
    {
     "data": {
      "image/png": "[encoded data removed]",
      "text/plain": [
       "<Figure size 1200x600 with 1 Axes>"
      ]
     },
     "metadata": {},
     "output_type": "display_data"
    },
    {
     "name": "stdout",
     "output_type": "stream",
     "text": [
      "\n",
      "Final Result:\n",
      "Best Fitness: 1129176\n"
     ]
    }
   ],
   "source": [
    "# generate a starting solution where each elelement is not taken\n",
    "# there is an additional knapsack that represents the left out items\n",
    "solution = np.array([\n",
    "    [False for _ in range(NUM_ITEMS)] for _ in range(NUM_KNAPSACKS + 1)], dtype=np.bool\n",
    ")\n",
    "# the row 0 of the solution represents the left out items\n",
    "\n",
    "for i in range(NUM_ITEMS):\n",
    "  solution[0][i] = True\n",
    "  # to randomize it: solution[randint(0, NUM_KNAPSACKS-1)][i] = True\n",
    "\n",
    "# choose the number of iterations\n",
    "max_iterations = 10000\n",
    "\n",
    "# Lists to track fitness evolution\n",
    "fitness_history = []\n",
    "iterations = []\n",
    "\n",
    "f = fitness(solution)\n",
    "fitness_history.append(f)\n",
    "iterations.append(0)\n",
    "\n",
    "# for x in tqdm(range(10000)):\n",
    "for i in range(max_iterations):\n",
    "  new_sol = tweak(solution)\n",
    "  f_new = fitness(new_sol)\n",
    "\n",
    "  if f_new > f:\n",
    "    f = f_new\n",
    "    solution = new_sol\n",
    "    fitness_history.append(f)\n",
    "    iterations.append(i)\n",
    "  elif f_new == f:\n",
    "    solution = new_sol\n",
    "    fitness_history.append(f)\n",
    "    iterations.append(i)\n",
    "  elif f_new == -2:\n",
    "    raise Exception(\"Algorithm flaw: an item appears in multiple knapsacks\")\n",
    "\n",
    "\n",
    "# Plot the fitness evolution\n",
    "plt.figure(figsize=(12, 6))\n",
    "plt.plot(iterations, fitness_history, 'b-', linewidth=2)\n",
    "plt.title('Fitness Evolution Over Time')\n",
    "plt.xlabel('Iteration')\n",
    "plt.ylabel('Fitness')\n",
    "plt.grid(True, alpha=0.3)\n",
    "plt.show()\n",
    "\n",
    "print(f\"\\nFinal Result:\")\n",
    "print(f\"Best Fitness: {f}\")\n"
   ]
  },
  {
   "cell_type": "code",
   "execution_count": null,
   "metadata": {
    "id": "cZRVQd4W25yx"
   },
   "outputs": [],
   "source": []
  },
  {
   "cell_type": "markdown",
   "metadata": {
    "id": "jQbeyjt6QmW3"
   },
   "source": [
    "# Three problems for testing"
   ]
  },
  {
   "cell_type": "code",
   "execution_count": 49,
   "metadata": {
    "id": "PautGu61PLNN"
   },
   "outputs": [],
   "source": [
    "# Problem 1:\n",
    "rng = np.random.default_rng(seed=42)\n",
    "NUM_KNAPSACKS = 3\n",
    "NUM_ITEMS = 20\n",
    "NUM_DIMENSIONS = 2\n",
    "VALUES = rng.integers(0, 100, size=NUM_ITEMS)\n",
    "WEIGHTS = rng.integers(0, 100, size=(NUM_ITEMS, NUM_DIMENSIONS))\n",
    "CONSTRAINTS = rng.integers(0, 100 * NUM_ITEMS // NUM_KNAPSACKS, size=(NUM_KNAPSACKS, NUM_DIMENSIONS))"
   ]
  },
  {
   "cell_type": "code",
   "execution_count": 52,
   "metadata": {
    "id": "yNWdDbaKPNSu"
   },
   "outputs": [],
   "source": [
    "# Problem 2:\n",
    "rng = np.random.default_rng(seed=42)\n",
    "NUM_KNAPSACKS = 10\n",
    "NUM_ITEMS = 100\n",
    "NUM_DIMENSIONS = 10\n",
    "VALUES = rng.integers(0, 1000, size=NUM_ITEMS)\n",
    "WEIGHTS = rng.integers(0, 1000, size=(NUM_ITEMS, NUM_DIMENSIONS))\n",
    "CONSTRAINTS = rng.integers(1000 * 2, 1000 * NUM_ITEMS // NUM_KNAPSACKS, size=(NUM_KNAPSACKS, NUM_DIMENSIONS))"
   ]
  },
  {
   "cell_type": "code",
   "execution_count": 24,
   "metadata": {
    "id": "tqvG8lLaPPYU"
   },
   "outputs": [],
   "source": [
    "# Problem 3:\n",
    "rng = np.random.default_rng(seed=42)\n",
    "NUM_KNAPSACKS = 100\n",
    "NUM_ITEMS = 5000\n",
    "NUM_DIMENSIONS = 100\n",
    "VALUES = rng.integers(0, 1000, size=NUM_ITEMS)\n",
    "WEIGHTS = rng.integers(0, 1000, size=(NUM_ITEMS, NUM_DIMENSIONS))\n",
    "CONSTRAINTS = rng.integers(1000 * 10, 1000 * 2 * NUM_ITEMS // NUM_KNAPSACKS,size=(NUM_KNAPSACKS, NUM_DIMENSIONS))"
   ]
  },
  {
   "cell_type": "code",
   "execution_count": null,
   "metadata": {
    "id": "VSXHzz_xPqZl"
   },
   "outputs": [],
   "source": []
  }
 ],
 "metadata": {
  "colab": {
   "provenance": []
  },
  "kernelspec": {
   "display_name": "base",
   "language": "python",
   "name": "python3"
  },
  "language_info": {
   "codemirror_mode": {
    "name": "ipython",
    "version": 3
   },
   "file_extension": ".py",
   "mimetype": "text/x-python",
   "name": "python",
   "nbconvert_exporter": "python",
   "pygments_lexer": "ipython3",
   "version": "3.12.4"
  }
 },
 "nbformat": 4,
 "nbformat_minor": 4
}

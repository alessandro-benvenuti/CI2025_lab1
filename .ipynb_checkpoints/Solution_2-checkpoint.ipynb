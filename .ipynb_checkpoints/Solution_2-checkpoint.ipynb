{
 "cells": [
  {
   "cell_type": "markdown",
   "metadata": {},
   "source": [
    "# Solution 2\n",
    "In this solution I used the following data structures and functions:\n",
    "- <strong>solution</strong> is a numpy matrix where each row represents a knapsack. There actually is one more row than the number of kanpsacks and it represents the left-out items. So the row 0 contains the items which have not been taken. At first each item is left out, I also tried to start with a randomized solution but it could just not converge.\n",
    "- <strong>tweak</strong> this time I do not swap a random number of random items, but a number which decreases with time. This way I can at first swap more items (exploration) and avoid getting stuck in a local maximum, then I start changing less items (exploitation) to find the best solution. \n",
    "- <strong>fitness</strong> is a function that computes the fitness of a solution. Invalid solutions have negative fitness."
   ]
  },
  {
   "cell_type": "code",
   "execution_count": 1,
   "metadata": {
    "id": "_rKNKPiHOFO6"
   },
   "outputs": [],
   "source": [
    "import numpy as np\n",
    "from random import randint, sample\n",
    "from copy import deepcopy\n",
    "from tqdm import tqdm\n",
    "import math"
   ]
  },
  {
   "cell_type": "code",
   "execution_count": 2,
   "metadata": {
    "id": "-GWB6WDFOcJ3"
   },
   "outputs": [],
   "source": [
    "NUM_KNAPSACKS = 2\n",
    "NUM_ITEMS = 3\n",
    "NUM_DIMENSIONS = 2"
   ]
  },
  {
   "cell_type": "code",
   "execution_count": 3,
   "metadata": {
    "colab": {
     "base_uri": "https://localhost:8080/"
    },
    "id": "O0c1_IuTO4VU",
    "outputId": "7fbf88ad-1ba7-489b-82c1-c53afd78291f"
   },
   "outputs": [
    {
     "name": "stdout",
     "output_type": "stream",
     "text": [
      "Values:\n",
      " [78 44 36]\n",
      "Weights:\n",
      " [[94  2]\n",
      " [14 83]\n",
      " [45 33]]\n",
      "Constraints:\n",
      " [[ 75 127]\n",
      " [115  45]]\n"
     ]
    }
   ],
   "source": [
    "VALUES = np.random.randint(0, 100, size=NUM_ITEMS)\n",
    "WEIGHTS = np.random.randint(0, 100, size=(NUM_ITEMS, NUM_DIMENSIONS))\n",
    "CONSTRAINTS = np.random.randint(0, 100 * NUM_ITEMS // NUM_KNAPSACKS, size=(NUM_KNAPSACKS, NUM_DIMENSIONS))"
   ]
  },
  {
   "cell_type": "code",
   "execution_count": 17,
   "metadata": {
    "id": "SWVTnNtCYRsa"
   },
   "outputs": [],
   "source": [
    "def compute_swaps_linear_decay(iteration: int, max_iterations: int) -> int:\n",
    "    # Linear decay\n",
    "    max_swaps = max(1, NUM_ITEMS // 2)  # max number of swaps\n",
    "    progress = iteration / max_iterations\n",
    "    num_swaps = max(1, int(max_swaps * (1 - progress)))\n",
    "    \n",
    "    num_swaps = min(num_swaps, NUM_ITEMS)\n",
    "\n",
    "    return num_swaps\n",
    "\n",
    "def compute_swaps_exponential_decay(iteration: int, max_iterations: int) -> int:\n",
    "    # Exponential decay\n",
    "    max_swaps = max(1, NUM_ITEMS // 2)  # max number of swaps\n",
    "    decay_rate = 5\n",
    "    progress = iteration / max_iterations\n",
    "    num_swaps = max(1, int(max_swaps * math.exp(-decay_rate * progress)))\n",
    "    \n",
    "    num_swaps = min(num_swaps, NUM_ITEMS)\n",
    "\n",
    "    return num_swaps\n",
    "\n",
    "def compute_swaps_cooling_schedule(iteration: int, max_iterations: int) -> int:\n",
    "    # Cooling schedule\n",
    "    max_swaps = max(1, NUM_ITEMS // 2)  # max number of swaps\n",
    "    initial_temp = 100\n",
    "    final_temp = 1\n",
    "    temp = initial_temp * (final_temp / initial_temp) ** (iteration / max_iterations)\n",
    "    num_swaps = max(1, int(max_swaps * (temp / initial_temp)))\n",
    "    \n",
    "    num_swaps = min(num_swaps, NUM_ITEMS)\n",
    "\n",
    "    return num_swaps\n",
    "\n",
    "\n",
    "def adaptive_tweak(solution: np.array, iteration: int, max_iterations: int) -> np.array:\n",
    "  s1 = deepcopy(solution)\n",
    "  \n",
    "  # number of items to swap decreases with time and depends on the current iteration\n",
    "  num_swaps = compute_swaps_exponential_decay(iteration, max_iterations)\n",
    "\n",
    "\n",
    "  # we start by picking the items to swap\n",
    "  random_items = sample(range(0, NUM_ITEMS), num_swaps)\n",
    "\n",
    "  for item in random_items:\n",
    "    # consider 2 different random bags (if b=0 then we are choosing a left out item)\n",
    "    b1 = np.where(solution[:, item])[0][0]\n",
    "    while True:\n",
    "      b2 = randint(0, NUM_KNAPSACKS-1)\n",
    "      if b2 != b1:\n",
    "        break\n",
    "    # swap the item in the two bags\n",
    "    s1[b1][item], s1[b2][item] = solution[b2][item], solution[b1][item]\n",
    "\n",
    "  return s1\n"
   ]
  },
  {
   "cell_type": "code",
   "execution_count": 5,
   "metadata": {
    "id": "4Iz29guK1w0B"
   },
   "outputs": [],
   "source": [
    "def fitness(solution: np.array) -> int:\n",
    "  # at first we need to compute if the solution is feasible and if it is not we return a negative fitness\n",
    "  if np.any(solution.sum(axis=0) > 1):\n",
    "    return -2   # if an object apperas in multiple knapsacks than the algorithm itself is flawed\n",
    "    \n",
    "  for k in range(1, NUM_KNAPSACKS+1):        # for each knapsack\n",
    "    \n",
    "    items_in_knapsack = solution[k]\n",
    "\n",
    "    if np.any(items_in_knapsack):           # if there are some items in the knapsack we can compute the total weight\n",
    "        \n",
    "        total_weight = WEIGHTS[items_in_knapsack].sum(axis=0)   # compute the total weight for each dimension\n",
    "        \n",
    "        if np.any(total_weight > CONSTRAINTS[k-1]):   \n",
    "            return -1   # the solution violates the weight constraint\n",
    "\n",
    "\n",
    "  # If the constraints are not violated then we can compute the fitness\n",
    "  f = 0\n",
    "  for i, item in enumerate(solution[0]):\n",
    "    # all the items wich are not left out contribute to the fitness\n",
    "    if not item:\n",
    "      f += VALUES[i]    # add the value of the take item\n",
    "\n",
    "  return f\n",
    "\n",
    "\n",
    "\n"
   ]
  },
  {
   "cell_type": "code",
   "execution_count": 18,
   "metadata": {
    "colab": {
     "background_save": true,
     "base_uri": "https://localhost:8080/"
    },
    "id": "Zi1O49l6Qlg7",
    "outputId": "ccbc9761-de27-456b-a421-0dc090b70c65"
   },
   "outputs": [
    {
     "name": "stdout",
     "output_type": "stream",
     "text": [
      "New fitness: 1177522\n",
      "New fitness: 1257978\n",
      "New fitness: 1300644\n",
      "New fitness: 1344178\n",
      "New fitness: 1374044\n",
      "New fitness: 1407300\n",
      "New fitness: 1441684\n",
      "New fitness: 1461058\n",
      "New fitness: 1492492\n",
      "New fitness: 1517753\n",
      "New fitness: 1534837\n",
      "New fitness: 1554272\n",
      "New fitness: 1572027\n",
      "New fitness: 1591068\n",
      "New fitness: 1609272\n",
      "New fitness: 1627203\n",
      "New fitness: 1648520\n",
      "New fitness: 1668130\n",
      "New fitness: 1678747\n",
      "New fitness: 1690919\n",
      "New fitness: 1701538\n",
      "New fitness: 1716255\n",
      "New fitness: 1719819\n",
      "New fitness: 1727348\n",
      "New fitness: 1735925\n",
      "New fitness: 1747573\n",
      "New fitness: 1756103\n",
      "New fitness: 1763426\n",
      "New fitness: 1772934\n",
      "New fitness: 1778785\n",
      "New fitness: 1786147\n",
      "New fitness: 1794546\n",
      "New fitness: 1803601\n",
      "New fitness: 1810084\n",
      "New fitness: 1816727\n",
      "New fitness: 1819870\n",
      "New fitness: 1822570\n",
      "New fitness: 1831773\n",
      "New fitness: 1838365\n",
      "New fitness: 1845594\n",
      "New fitness: 1852700\n",
      "New fitness: 1857267\n",
      "New fitness: 1863778\n",
      "New fitness: 1868640\n",
      "New fitness: 1873354\n",
      "New fitness: 1881160\n",
      "New fitness: 1885636\n",
      "New fitness: 1890281\n",
      "New fitness: 1892772\n",
      "New fitness: 1897829\n",
      "New fitness: 1904875\n",
      "New fitness: 1907797\n",
      "New fitness: 1911028\n",
      "New fitness: 1914121\n",
      "New fitness: 1919595\n",
      "New fitness: 1924509\n",
      "New fitness: 1927488\n",
      "New fitness: 1931347\n",
      "New fitness: 1934958\n",
      "New fitness: 1939239\n",
      "New fitness: 1942121\n",
      "New fitness: 1945568\n",
      "New fitness: 1948340\n",
      "New fitness: 1950516\n",
      "New fitness: 1953061\n",
      "New fitness: 1960415\n",
      "New fitness: 1960833\n",
      "New fitness: 1964140\n",
      "New fitness: 1967272\n",
      "New fitness: 1969084\n",
      "New fitness: 1972921\n",
      "New fitness: 1975381\n",
      "New fitness: 1979678\n",
      "New fitness: 1980926\n",
      "New fitness: 1981927\n",
      "New fitness: 1983900\n",
      "New fitness: 1985968\n",
      "New fitness: 1988992\n",
      "New fitness: 1991572\n",
      "New fitness: 1992484\n",
      "New fitness: 1994520\n",
      "New fitness: 1995422\n",
      "New fitness: 1998510\n",
      "New fitness: 2000186\n",
      "New fitness: 2002346\n",
      "New fitness: 2005609\n",
      "New fitness: 2006563\n",
      "New fitness: 2008259\n",
      "New fitness: 2012304\n",
      "New fitness: 2013070\n",
      "New fitness: 2013924\n",
      "New fitness: 2016140\n",
      "New fitness: 2017469\n",
      "New fitness: 2021371\n",
      "New fitness: 2022686\n",
      "New fitness: 2023373\n",
      "New fitness: 2025500\n",
      "New fitness: 2028595\n",
      "New fitness: 2033143\n",
      "Fitness: 2033143, Solution:\n",
      "[[False False False ... False False False]\n",
      " [False False False ... False False False]\n",
      " [False False False ... False False False]\n",
      " ...\n",
      " [False False False ... False False False]\n",
      " [False False False ... False  True False]\n",
      " [False False False ... False False False]]\n"
     ]
    }
   ],
   "source": [
    "# generate a starting solution where each elelement is not taken\n",
    "# there is an additional knapsack that represents the left out items\n",
    "solution = np.array([\n",
    "    [False for _ in range(NUM_ITEMS)] for _ in range(NUM_KNAPSACKS + 1)], dtype=np.bool\n",
    ")\n",
    "# the row 0 of the solution represents the tleft out items\n",
    "\n",
    "for i in range(NUM_ITEMS):\n",
    "  solution[0][i] = True\n",
    "  # to randomize it: solution[randint(0, NUM_KNAPSACKS-1)][i] = True\n",
    "\n",
    "# choose the number of iterations\n",
    "max_iterations = 10000\n",
    "\n",
    "f = fitness(solution)\n",
    "# for x in tqdm(range(10000)):\n",
    "for i in range(max_iterations):\n",
    "  new_sol = adaptive_tweak(solution, i, max_iterations)\n",
    "  f_new = fitness(new_sol)\n",
    "  if f_new > f:\n",
    "    print(f\"New fitness: {f_new}\")\n",
    "    f = f_new\n",
    "    solution = new_sol\n",
    "  elif f_new == f:\n",
    "    solution = new_sol\n",
    "  elif f_new == -2:\n",
    "    raise Exception(\"Algorithm flaw: an item appears in multiple knapsacks\")\n",
    "\n",
    "print(f\"Fitness: {f}, Solution:\\n{solution}\")\n",
    "\n"
   ]
  },
  {
   "cell_type": "code",
   "execution_count": null,
   "metadata": {
    "id": "oWsBjAgMQluw"
   },
   "outputs": [],
   "source": []
  },
  {
   "cell_type": "code",
   "execution_count": null,
   "metadata": {
    "id": "cZRVQd4W25yx"
   },
   "outputs": [],
   "source": []
  },
  {
   "cell_type": "markdown",
   "metadata": {
    "id": "jQbeyjt6QmW3"
   },
   "source": [
    "# Three problems for testing"
   ]
  },
  {
   "cell_type": "code",
   "execution_count": 7,
   "metadata": {
    "id": "PautGu61PLNN"
   },
   "outputs": [],
   "source": [
    "# Problem 1:\n",
    "rng = np.random.default_rng(seed=42)\n",
    "NUM_KNAPSACKS = 3\n",
    "NUM_ITEMS = 20\n",
    "NUM_DIMENSIONS = 2\n",
    "VALUES = rng.integers(0, 100, size=NUM_ITEMS)\n",
    "WEIGHTS = rng.integers(0, 100, size=(NUM_ITEMS, NUM_DIMENSIONS))\n",
    "CONSTRAINTS = rng.integers(0, 100 * NUM_ITEMS // NUM_KNAPSACKS, size=NUM_DIMENSIONS)"
   ]
  },
  {
   "cell_type": "code",
   "execution_count": null,
   "metadata": {
    "id": "yNWdDbaKPNSu"
   },
   "outputs": [],
   "source": [
    "# Problem 2:\n",
    "rng = np.random.default_rng(seed=42)\n",
    "NUM_KNAPSACKS = 10\n",
    "NUM_ITEMS = 100\n",
    "NUM_DIMENSIONS = 10\n",
    "VALUES = rng.integers(0, 1000, size=NUM_ITEMS)\n",
    "WEIGHTS = rng.integers(0, 1000, size=(NUM_ITEMS, NUM_DIMENSIONS))\n",
    "CONSTRAINTS = rng.integers(1000 * 2, 1000 * NUM_ITEMS // NUM_KNAPSACKS, size=NUM_DIMENSIONS)"
   ]
  },
  {
   "cell_type": "code",
   "execution_count": 11,
   "metadata": {
    "id": "tqvG8lLaPPYU"
   },
   "outputs": [],
   "source": [
    "# Problem 3:\n",
    "rng = np.random.default_rng(seed=42)\n",
    "NUM_KNAPSACKS = 100\n",
    "NUM_ITEMS = 5000\n",
    "NUM_DIMENSIONS = 100\n",
    "VALUES = rng.integers(0, 1000, size=NUM_ITEMS)\n",
    "WEIGHTS = rng.integers(0, 1000, size=(NUM_ITEMS, NUM_DIMENSIONS))\n",
    "CONSTRAINTS = rng.integers(1000 * 10, 1000 * 2 * NUM_ITEMS // NUM_KNAPSACKS, size=NUM_DIMENSIONS)"
   ]
  },
  {
   "cell_type": "code",
   "execution_count": null,
   "metadata": {
    "id": "VSXHzz_xPqZl"
   },
   "outputs": [],
   "source": []
  }
 ],
 "metadata": {
  "colab": {
   "provenance": []
  },
  "kernelspec": {
   "display_name": "Python 3",
   "language": "python",
   "name": "python3"
  },
  "language_info": {
   "codemirror_mode": {
    "name": "ipython",
    "version": 3
   },
   "file_extension": ".py",
   "mimetype": "text/x-python",
   "name": "python",
   "nbconvert_exporter": "python",
   "pygments_lexer": "ipython3",
   "version": "3.13.2"
  }
 },
 "nbformat": 4,
 "nbformat_minor": 4
}

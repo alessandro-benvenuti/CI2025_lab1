{
 "cells": [
  {
   "cell_type": "markdown",
   "metadata": {},
   "source": [
    "# Solution 1\n",
    "In this solution I used the following data structures and functions:\n",
    "- <strong>solution</strong> is a numpy matrix where each row represents a knapsack. There actually is one more row than the number of kanpsacks and it represents the left-out items. So the row 0 contains the items which have not been taken. At first each item is left out, I also tried to start with a randomized solution but it could just not converge.\n",
    "- <strong>tweak</strong> is a funtion that tries to tweak the solution by making a random number of swaps of random items each time. So when tweak is called a random number of random items is selected and they are randomly moved between the knapsacks (even between knapsack 0, so the left out items).\n",
    "- <strong>fitness</strong> is a function that computes the fitness of a solution. Invalid solutions have negative fitness."
   ]
  },
  {
   "cell_type": "code",
   "execution_count": 12,
   "metadata": {
    "id": "_rKNKPiHOFO6"
   },
   "outputs": [],
   "source": [
    "import numpy as np\n",
    "from random import randint, sample\n",
    "from copy import deepcopy\n",
    "from tqdm import tqdm"
   ]
  },
  {
   "cell_type": "code",
   "execution_count": 13,
   "metadata": {
    "id": "-GWB6WDFOcJ3"
   },
   "outputs": [],
   "source": [
    "NUM_KNAPSACKS = 2\n",
    "NUM_ITEMS = 3\n",
    "NUM_DIMENSIONS = 2"
   ]
  },
  {
   "cell_type": "code",
   "execution_count": 14,
   "metadata": {
    "colab": {
     "base_uri": "https://localhost:8080/"
    },
    "id": "O0c1_IuTO4VU",
    "outputId": "7fbf88ad-1ba7-489b-82c1-c53afd78291f"
   },
   "outputs": [
    {
     "name": "stdout",
     "output_type": "stream",
     "text": [
      "Values:\n",
      " [59 99 39]\n",
      "Weights:\n",
      " [[18 28]\n",
      " [ 4 85]\n",
      " [57 32]]\n",
      "Constraints:\n",
      " [[ 64 142]\n",
      " [100  74]]\n"
     ]
    }
   ],
   "source": [
    "VALUES = np.random.randint(0, 100, size=NUM_ITEMS)\n",
    "WEIGHTS = np.random.randint(0, 100, size=(NUM_ITEMS, NUM_DIMENSIONS))\n",
    "CONSTRAINTS = np.random.randint(0, 100 * NUM_ITEMS // NUM_KNAPSACKS, size=(NUM_KNAPSACKS, NUM_DIMENSIONS))\n",
    "print(\"Values:\\n\", VALUES)\n",
    "print(\"Weights:\\n\", WEIGHTS)\n",
    "print(\"Constraints:\\n\", CONSTRAINTS)"
   ]
  },
  {
   "cell_type": "code",
   "execution_count": 15,
   "metadata": {
    "id": "SWVTnNtCYRsa"
   },
   "outputs": [],
   "source": [
    "def tweak(solution: np.array) -> np.array:\n",
    "  s1 = deepcopy(solution)\n",
    "  # after deepcopying the solution we can perform a random number of swaps\n",
    "  # of the items in the knapsack\n",
    "\n",
    "  # we start by picking a random number of items to swap\n",
    "  random_items = sample(range(0, NUM_ITEMS), k=randint(1, NUM_ITEMS))\n",
    "\n",
    "  for item in random_items:\n",
    "    # consider 2 different random bags (if b=0 then we are choosing a left out item)\n",
    "    b1 = np.where(solution[:, item])[0][0]\n",
    "    while True:\n",
    "      b2 = randint(0, NUM_KNAPSACKS-1)\n",
    "      if b2 != b1:\n",
    "        break\n",
    "    # swap the item in the two bags\n",
    "    s1[b1][item], s1[b2][item] = solution[b2][item], solution[b1][item]\n",
    "\n",
    "  return s1\n"
   ]
  },
  {
   "cell_type": "code",
   "execution_count": null,
   "metadata": {
    "id": "4Iz29guK1w0B"
   },
   "outputs": [],
   "source": [
    "def fitness(solution: np.array) -> int:\n",
    "  # at first we need to compute if the solution is feasible and if it is not we return a negative fitness\n",
    "  if np.any(solution.sum(axis=0) > 1):\n",
    "    return -2   # if an object apperas in multiple knapsacks than the algorithm itself is flawed\n",
    "    \n",
    "  for k in range(1, NUM_KNAPSACKS+1):        # for each knapsack\n",
    "    \n",
    "    items_in_knapsack = solution[k]\n",
    "\n",
    "    if np.any(items_in_knapsack):           # if there are some items in the knapsack we can compute the total weight\n",
    "        \n",
    "        total_weight = WEIGHTS[items_in_knapsack].sum(axis=0)   # compute the total weight for each dimension\n",
    "        \n",
    "        if np.any(total_weight > CONSTRAINTS[k-1]):   \n",
    "            return -1   # the solution violates the weight constraint\n",
    "\n",
    "\n",
    "  # If the constraints are not violated then we can compute the fitness\n",
    "  f = 0\n",
    "  for i, item in enumerate(solution[0]):\n",
    "    # all the items wich are not left out contribute to the fitness\n",
    "    if not item:\n",
    "      f += VALUES[i]    # add the value of the take item\n",
    "\n",
    "  return f\n",
    "\n",
    "\n",
    "\n"
   ]
  },
  {
   "cell_type": "code",
   "execution_count": null,
   "metadata": {
    "colab": {
     "background_save": true,
     "base_uri": "https://localhost:8080/"
    },
    "id": "Zi1O49l6Qlg7",
    "outputId": "ccbc9761-de27-456b-a421-0dc090b70c65"
   },
   "outputs": [
    {
     "name": "stdout",
     "output_type": "stream",
     "text": [
      "New fitness: 4375\n",
      "New fitness: 16983\n",
      "New fitness: 468108\n",
      "New fitness: 613286\n",
      "New fitness: 783671\n",
      "New fitness: 790589\n",
      "New fitness: 876702\n",
      "New fitness: 890765\n",
      "New fitness: 915194\n",
      "New fitness: 917911\n",
      "New fitness: 926252\n",
      "New fitness: 960444\n",
      "New fitness: 967380\n",
      "New fitness: 988447\n",
      "New fitness: 991524\n",
      "New fitness: 1006884\n",
      "New fitness: 1032969\n",
      "New fitness: 1044662\n",
      "New fitness: 1046066\n",
      "New fitness: 1048984\n",
      "New fitness: 1054114\n",
      "New fitness: 1070313\n",
      "New fitness: 1077493\n",
      "New fitness: 1100137\n",
      "New fitness: 1132883\n",
      "New fitness: 1133211\n",
      "New fitness: 1137514\n",
      "New fitness: 1140061\n",
      "New fitness: 1146965\n",
      "New fitness: 1148184\n",
      "New fitness: 1161617\n",
      "New fitness: 1166535\n",
      "New fitness: 1173946\n",
      "New fitness: 1175861\n",
      "New fitness: 1188859\n",
      "New fitness: 1215274\n",
      "New fitness: 1221165\n",
      "New fitness: 1223781\n",
      "New fitness: 1235244\n",
      "New fitness: 1239280\n",
      "New fitness: 1247409\n",
      "New fitness: 1247747\n",
      "New fitness: 1252943\n",
      "New fitness: 1259343\n",
      "New fitness: 1259726\n",
      "New fitness: 1268126\n",
      "New fitness: 1292326\n",
      "New fitness: 1307439\n",
      "New fitness: 1311830\n",
      "New fitness: 1317377\n",
      "New fitness: 1320823\n",
      "New fitness: 1334020\n",
      "New fitness: 1335599\n",
      "New fitness: 1336692\n",
      "New fitness: 1338112\n",
      "New fitness: 1346248\n",
      "New fitness: 1353024\n",
      "New fitness: 1358002\n",
      "New fitness: 1366784\n",
      "New fitness: 1369396\n",
      "New fitness: 1375176\n",
      "New fitness: 1377318\n",
      "Fitness: 1377318, Solution:\n",
      "[[False  True  True ... False  True  True]\n",
      " [False False False ... False False False]\n",
      " [False False False ... False False False]\n",
      " ...\n",
      " [False False False ... False False False]\n",
      " [False False False ... False False False]\n",
      " [False False False ... False False False]]\n"
     ]
    }
   ],
   "source": [
    "# generate a starting solution where each elelement is not taken\n",
    "# there is an additional knapsack that represents the left out items\n",
    "solution = np.array([\n",
    "    [False for _ in range(NUM_ITEMS)] for _ in range(NUM_KNAPSACKS + 1)], dtype=np.bool\n",
    ")\n",
    "# the row 0 of the solution represents the tleft out items\n",
    "\n",
    "for i in range(NUM_ITEMS):\n",
    "  solution[0][i] = True\n",
    "  # to randomize it: solution[randint(0, NUM_KNAPSACKS-1)][i] = True\n",
    "\n",
    "\n",
    "f = fitness(solution)\n",
    "# for x in tqdm(range(10000)):\n",
    "for x in range(10000):\n",
    "  new_sol = tweak(solution)\n",
    "  f_new = fitness(new_sol)\n",
    "  if f_new > f:\n",
    "    print(f\"New fitness: {f_new}\")\n",
    "    f = f_new\n",
    "    solution = new_sol\n",
    "  elif f_new == f:\n",
    "    solution = new_sol\n",
    "  elif f_new == -2:\n",
    "    raise Exception(\"Algorithm flaw: an item appears in multiple knapsacks\")\n",
    "\n",
    "print(f\"Fitness: {f}, Solution:\\n{solution}\")\n",
    "\n"
   ]
  },
  {
   "cell_type": "code",
   "execution_count": null,
   "metadata": {
    "id": "oWsBjAgMQluw"
   },
   "outputs": [],
   "source": []
  },
  {
   "cell_type": "code",
   "execution_count": null,
   "metadata": {
    "id": "cZRVQd4W25yx"
   },
   "outputs": [],
   "source": []
  },
  {
   "cell_type": "markdown",
   "metadata": {
    "id": "jQbeyjt6QmW3"
   },
   "source": [
    "# Three problems for testing"
   ]
  },
  {
   "cell_type": "code",
   "execution_count": 10,
   "metadata": {
    "id": "PautGu61PLNN"
   },
   "outputs": [],
   "source": [
    "# Problem 1:\n",
    "rng = np.random.default_rng(seed=42)\n",
    "NUM_KNAPSACKS = 3\n",
    "NUM_ITEMS = 20\n",
    "NUM_DIMENSIONS = 2\n",
    "VALUES = rng.integers(0, 100, size=NUM_ITEMS)\n",
    "WEIGHTS = rng.integers(0, 100, size=(NUM_ITEMS, NUM_DIMENSIONS))\n",
    "CONSTRAINTS = rng.integers(0, 100 * NUM_ITEMS // NUM_KNAPSACKS, size=NUM_DIMENSIONS)"
   ]
  },
  {
   "cell_type": "code",
   "execution_count": null,
   "metadata": {
    "id": "yNWdDbaKPNSu"
   },
   "outputs": [],
   "source": [
    "# Problem 2:\n",
    "rng = np.random.default_rng(seed=42)\n",
    "NUM_KNAPSACKS = 10\n",
    "NUM_ITEMS = 100\n",
    "NUM_DIMENSIONS = 10\n",
    "VALUES = rng.integers(0, 1000, size=NUM_ITEMS)\n",
    "WEIGHTS = rng.integers(0, 1000, size=(NUM_ITEMS, NUM_DIMENSIONS))\n",
    "CONSTRAINTS = rng.integers(1000 * 2, 1000 * NUM_ITEMS // NUM_KNAPSACKS, size=NUM_DIMENSIONS)"
   ]
  },
  {
   "cell_type": "code",
   "execution_count": 18,
   "metadata": {
    "id": "tqvG8lLaPPYU"
   },
   "outputs": [],
   "source": [
    "# Problem 3:\n",
    "rng = np.random.default_rng(seed=42)\n",
    "NUM_KNAPSACKS = 100\n",
    "NUM_ITEMS = 5000\n",
    "NUM_DIMENSIONS = 100\n",
    "VALUES = rng.integers(0, 1000, size=NUM_ITEMS)\n",
    "WEIGHTS = rng.integers(0, 1000, size=(NUM_ITEMS, NUM_DIMENSIONS))\n",
    "CONSTRAINTS = rng.integers(1000 * 10, 1000 * 2 * NUM_ITEMS // NUM_KNAPSACKS, size=NUM_DIMENSIONS)"
   ]
  },
  {
   "cell_type": "code",
   "execution_count": null,
   "metadata": {
    "id": "VSXHzz_xPqZl"
   },
   "outputs": [],
   "source": []
  }
 ],
 "metadata": {
  "colab": {
   "provenance": []
  },
  "kernelspec": {
   "display_name": "Python 3",
   "language": "python",
   "name": "python3"
  },
  "language_info": {
   "codemirror_mode": {
    "name": "ipython",
    "version": 3
   },
   "file_extension": ".py",
   "mimetype": "text/x-python",
   "name": "python",
   "nbconvert_exporter": "python",
   "pygments_lexer": "ipython3",
   "version": "3.13.2"
  }
 },
 "nbformat": 4,
 "nbformat_minor": 4
}
